{
 "cells": [
  {
   "cell_type": "markdown",
   "metadata": {},
   "source": [
    "# Eyetracking Pre-Processing\n",
    "\n",
    "Updated: 20240715\n",
    "\n",
    "This notebook:\n",
    "1. subsets the pupil-labs data into smaller videos (ad1 and ad2)\n",
    "2. saves smaller scene video for processing"
   ]
  },
  {
   "cell_type": "code",
   "execution_count": 1,
   "metadata": {},
   "outputs": [],
   "source": [
    "# libraries\n",
    "import cv2\n",
    "import numpy as np\n",
    "import pandas as pd\n",
    "import os\n",
    "import csv"
   ]
  },
  {
   "cell_type": "code",
   "execution_count": 2,
   "metadata": {},
   "outputs": [],
   "source": [
    "# paths and files\n",
    "subj_folder = os.path.join('data', 'sub-053_tv-lego-63478be7')\n",
    "video = os.path.join('data', 'sub-053_tv-lego-63478be7', 'a5ba9c89_0.0-813.692.mp4')\n",
    "events = pd.read_csv(os.path.join(subj_folder,'events.csv'))\n",
    "gaze = pd.read_csv(os.path.join(subj_folder,'gaze.csv'))\n",
    "world_timestamps = pd.read_csv(os.path.join(subj_folder,'world_timestamps.csv'))\n",
    "task_events = pd.read_csv('/Users/ebeard/Dropbox (Penn)/i3/foxmedia/data/tv_event/sub-053_lego/sub-053_task-events.csv')"
   ]
  },
  {
   "cell_type": "code",
   "execution_count": 3,
   "metadata": {},
   "outputs": [
    {
     "name": "stdout",
     "output_type": "stream",
     "text": [
      "Saved frame for event at index 0\n",
      "Saved frame for event at index 1\n",
      "Saved frame for event at index 2\n",
      "Saved frame for event at index 3\n",
      "Saved frame for event at index 4\n",
      "Saved frame for event at index 5\n",
      "Saved frame for event at index 6\n",
      "Saved frame for event at index 7\n",
      "Saved frame for event at index 8\n",
      "Saved frame for event at index 9\n"
     ]
    }
   ],
   "source": [
    "# Load video\n",
    "cap = cv2.VideoCapture(video)\n",
    "\n",
    "# Check if video opened successfully\n",
    "if not cap.isOpened():\n",
    "    print(\"Error: Could not open video.\")\n",
    "    exit()\n",
    "\n",
    "# Process each event\n",
    "for index, event in events.iterrows():\n",
    "    event_timestamp_ns = event['timestamp [ns]']\n",
    "    \n",
    "    # Find the closest frame index to the event timestamp\n",
    "    closest_frame_index = np.abs(world_timestamps['timestamp [ns]'].astype(float) - float(event_timestamp_ns)).idxmin()\n",
    "\n",
    "    # Set the video to the correct frame\n",
    "    cap.set(cv2.CAP_PROP_POS_FRAMES, closest_frame_index)\n",
    "    ret, frame = cap.read()\n",
    "\n",
    "    if not ret:\n",
    "        print(f\"Failed to capture frame at index {closest_frame_index}\")\n",
    "        continue\n",
    "\n",
    "    # Save the frame as an image\n",
    "    event_name = event['name']\n",
    "    cv2.imwrite(f'event_{index}-{event_name}_frame.jpg', frame)\n",
    "    print(f\"Saved frame for event at index {index}\")\n",
    "\n",
    "cap.release()\n"
   ]
  }
 ],
 "metadata": {
  "kernelspec": {
   "display_name": "base",
   "language": "python",
   "name": "python3"
  },
  "language_info": {
   "codemirror_mode": {
    "name": "ipython",
    "version": 3
   },
   "file_extension": ".py",
   "mimetype": "text/x-python",
   "name": "python",
   "nbconvert_exporter": "python",
   "pygments_lexer": "ipython3",
   "version": "3.11.4"
  }
 },
 "nbformat": 4,
 "nbformat_minor": 2
}
