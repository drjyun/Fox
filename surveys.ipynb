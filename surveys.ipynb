{
 "cells": [
  {
   "cell_type": "markdown",
   "metadata": {},
   "source": [
    "# Fox Survey Data"
   ]
  },
  {
   "cell_type": "markdown",
   "metadata": {},
   "source": [
    "## Importing the Data\n",
    "Tried to import via the API using [QualtricsAPI](https://www.qualtricsapi-pydocs.com/installation.html). I think this may not work cause Jin is the owner of the survey.\n",
    " \n",
    "- _Note_: `sub-074` was mislabeled in the pre-test as `sub-073`. For now, I'm manually changing that in the raw data before importing it into the notebook."
   ]
  },
  {
   "cell_type": "code",
   "execution_count": 1,
   "metadata": {},
   "outputs": [],
   "source": [
    "import pandas as pd\n",
    "import datetime as dt\n",
    "import os"
   ]
  },
  {
   "cell_type": "code",
   "execution_count": 2,
   "metadata": {},
   "outputs": [
    {
     "name": "stderr",
     "output_type": "stream",
     "text": [
      "/var/folders/4z/r7mkx_mj2d73zrgl4w0848ww0000gq/T/ipykernel_54446/4153165684.py:9: UserWarning: Could not infer format, so each element will be parsed individually, falling back to `dateutil`. To ensure parsing is consistent and as-expected, please specify a format.\n",
      "  pre = pd.read_csv(os.path.join(data_dir, pre_filename), skiprows=[1,2], encoding='utf-8-sig', parse_dates=[1,2], dayfirst=False)\n"
     ]
    }
   ],
   "source": [
    "\n",
    "data_dir = os.path.abspath(os.path.join(os.getcwd(), '../data/surveys'))\n",
    "today = dt.date.today()\n",
    "date = today #.replace(day=today.day-1) #yesterday's data, change as needed\n",
    "\n",
    "# as long as you remove the time from the datasheet (##.##.csv), you don't need to manually change anything\n",
    "pre_filename = f'fox-pre_{date.strftime(\"%B\")} {date.strftime(\"%-d\")}, {date.strftime(\"%Y\")}.csv' \n",
    "post_filename = f'fox-post_{date.strftime(\"%B\")} {date.strftime(\"%-d\")}, {date.strftime(\"%Y\")}.csv' \n",
    "\n",
    "pre = pd.read_csv(os.path.join(data_dir, pre_filename), skiprows=[1,2], encoding='utf-8-sig', parse_dates=[1,2], dayfirst=False)\n",
    "post = pd.read_csv(os.path.join(data_dir, post_filename), skiprows=[1,2], encoding='utf-8-sig', parse_dates=[1,2], dayfirst=False)\n"
   ]
  },
  {
   "cell_type": "markdown",
   "metadata": {},
   "source": [
    "## Demographics"
   ]
  },
  {
   "cell_type": "code",
   "execution_count": 3,
   "metadata": {},
   "outputs": [],
   "source": [
    "import numpy as np"
   ]
  },
  {
   "cell_type": "code",
   "execution_count": 4,
   "metadata": {},
   "outputs": [],
   "source": [
    "conditions = {'LEGO':1, 'BIG MOOD':2, 'American Pickers':3, \n",
    "              'CNN News':4, 'Continental':5, 'Fox News':6, \n",
    "              'NFL':7, 'YouTube TV':8, 'Smartphone A':12,\n",
    "              'Smartphone B':10, 'Control TV':11, 'Control Smartphone':13}\n",
    "conditions_swap = {v: k for k, v in conditions.items()}\n",
    "\n",
    "post['Cond'] = post['condition'].map(conditions_swap)\n",
    "pre['Cond'] = pre['condition'].map(conditions_swap)"
   ]
  },
  {
   "cell_type": "code",
   "execution_count": 5,
   "metadata": {},
   "outputs": [
    {
     "data": {
      "text/html": [
       "<div>\n",
       "<style scoped>\n",
       "    .dataframe tbody tr th:only-of-type {\n",
       "        vertical-align: middle;\n",
       "    }\n",
       "\n",
       "    .dataframe tbody tr th {\n",
       "        vertical-align: top;\n",
       "    }\n",
       "\n",
       "    .dataframe thead tr th {\n",
       "        text-align: left;\n",
       "    }\n",
       "\n",
       "    .dataframe thead tr:last-of-type th {\n",
       "        text-align: right;\n",
       "    }\n",
       "</style>\n",
       "<table border=\"1\" class=\"dataframe\">\n",
       "  <thead>\n",
       "    <tr>\n",
       "      <th></th>\n",
       "      <th>condition</th>\n",
       "      <th colspan=\"3\" halign=\"left\">age</th>\n",
       "      <th>F</th>\n",
       "    </tr>\n",
       "    <tr>\n",
       "      <th></th>\n",
       "      <th>size</th>\n",
       "      <th>min</th>\n",
       "      <th>mean</th>\n",
       "      <th>max</th>\n",
       "      <th>sum</th>\n",
       "    </tr>\n",
       "    <tr>\n",
       "      <th>Cond</th>\n",
       "      <th></th>\n",
       "      <th></th>\n",
       "      <th></th>\n",
       "      <th></th>\n",
       "      <th></th>\n",
       "    </tr>\n",
       "  </thead>\n",
       "  <tbody>\n",
       "    <tr>\n",
       "      <th>American Pickers</th>\n",
       "      <td>7</td>\n",
       "      <td>18</td>\n",
       "      <td>20.57</td>\n",
       "      <td>24</td>\n",
       "      <td>7</td>\n",
       "    </tr>\n",
       "    <tr>\n",
       "      <th>BIG MOOD</th>\n",
       "      <td>9</td>\n",
       "      <td>18</td>\n",
       "      <td>22.00</td>\n",
       "      <td>25</td>\n",
       "      <td>6</td>\n",
       "    </tr>\n",
       "    <tr>\n",
       "      <th>CNN News</th>\n",
       "      <td>7</td>\n",
       "      <td>18</td>\n",
       "      <td>19.57</td>\n",
       "      <td>22</td>\n",
       "      <td>6</td>\n",
       "    </tr>\n",
       "    <tr>\n",
       "      <th>Continental</th>\n",
       "      <td>7</td>\n",
       "      <td>18</td>\n",
       "      <td>24.57</td>\n",
       "      <td>47</td>\n",
       "      <td>4</td>\n",
       "    </tr>\n",
       "    <tr>\n",
       "      <th>Control Smartphone</th>\n",
       "      <td>18</td>\n",
       "      <td>18</td>\n",
       "      <td>24.00</td>\n",
       "      <td>70</td>\n",
       "      <td>13</td>\n",
       "    </tr>\n",
       "    <tr>\n",
       "      <th>Control TV</th>\n",
       "      <td>8</td>\n",
       "      <td>18</td>\n",
       "      <td>30.50</td>\n",
       "      <td>47</td>\n",
       "      <td>7</td>\n",
       "    </tr>\n",
       "    <tr>\n",
       "      <th>Fox News</th>\n",
       "      <td>8</td>\n",
       "      <td>18</td>\n",
       "      <td>26.50</td>\n",
       "      <td>49</td>\n",
       "      <td>7</td>\n",
       "    </tr>\n",
       "    <tr>\n",
       "      <th>LEGO</th>\n",
       "      <td>8</td>\n",
       "      <td>19</td>\n",
       "      <td>29.25</td>\n",
       "      <td>66</td>\n",
       "      <td>6</td>\n",
       "    </tr>\n",
       "    <tr>\n",
       "      <th>NFL</th>\n",
       "      <td>7</td>\n",
       "      <td>18</td>\n",
       "      <td>22.86</td>\n",
       "      <td>29</td>\n",
       "      <td>4</td>\n",
       "    </tr>\n",
       "  </tbody>\n",
       "</table>\n",
       "</div>"
      ],
      "text/plain": [
       "                   condition age              F\n",
       "                        size min   mean max sum\n",
       "Cond                                           \n",
       "American Pickers           7  18  20.57  24   7\n",
       "BIG MOOD                   9  18  22.00  25   6\n",
       "CNN News                   7  18  19.57  22   6\n",
       "Continental                7  18  24.57  47   4\n",
       "Control Smartphone        18  18  24.00  70  13\n",
       "Control TV                 8  18  30.50  47   7\n",
       "Fox News                   8  18  26.50  49   7\n",
       "LEGO                       8  19  29.25  66   6\n",
       "NFL                        7  18  22.86  29   4"
      ]
     },
     "execution_count": 5,
     "metadata": {},
     "output_type": "execute_result"
    }
   ],
   "source": [
    "demos = post[['id', 'Cond', 'condition', 'gender', 'age', 'glasses', 'race', 'education', 'income', 'politics']].copy()\n",
    "demos['F'] = np.where(demos['gender']==2, 1,0)\n",
    "\n",
    "demo_sum = demos.groupby('Cond').agg({\n",
    "    'condition': ['size'],\n",
    "    'age': ['min', 'mean', 'max'],\n",
    "    'F': ['sum']\n",
    "}).round(2)\n",
    "\n",
    "demo_sum"
   ]
  },
  {
   "cell_type": "code",
   "execution_count": 6,
   "metadata": {},
   "outputs": [],
   "source": [
    "import matplotlib.pyplot as plt"
   ]
  },
  {
   "cell_type": "code",
   "execution_count": 7,
   "metadata": {},
   "outputs": [
    {
     "data": {
      "text/plain": [
       "(0.0, 10.0)"
      ]
     },
     "execution_count": 7,
     "metadata": {},
     "output_type": "execute_result"
    },
    {
     "data": {
      "image/png": "[encoded data removed]",
      "text/plain": [
       "<Figure size 640x480 with 1 Axes>"
      ]
     },
     "metadata": {},
     "output_type": "display_data"
    }
   ],
   "source": [
    "demo_sum_flat = pd.DataFrame(demo_sum.to_records())\n",
    "#plt.bar(demo_sum_flat.iloc[:,1], demo_sum_flat['Cond'])\n",
    "#plt.xticks(rotation=90)\n",
    "#plt.xlabel('# of Participants')\n",
    "\n",
    "fix, ax = plt.subplots()\n",
    "hbars = ax.barh(demo_sum_flat.loc[demo_sum_flat[\"Cond\"]!='Control Smartphone', \"Cond\"], demo_sum_flat.iloc[-4,1])\n",
    "ax.set_xlabel('# of Participants')\n",
    "ax.set_xlim(right=10)"
   ]
  },
  {
   "cell_type": "markdown",
   "metadata": {},
   "source": [
    "## Rejectors\n",
    "A lot of rejectors in this group for Fox Sports and Fox News. Some still made their way into the condition they're a rejector of."
   ]
  },
  {
   "cell_type": "code",
   "execution_count": 6,
   "metadata": {},
   "outputs": [],
   "source": [
    "rejectors = pre[['sub_id', 'Cond', 'condition', 'rejector_FOX-Prime', 'rejector_FOX-Sports', 'rejector_FOX-News']].copy()"
   ]
  },
  {
   "cell_type": "code",
   "execution_count": 7,
   "metadata": {},
   "outputs": [
    {
     "data": {
      "text/html": [
       "<div>\n",
       "<style scoped>\n",
       "    .dataframe tbody tr th:only-of-type {\n",
       "        vertical-align: middle;\n",
       "    }\n",
       "\n",
       "    .dataframe tbody tr th {\n",
       "        vertical-align: top;\n",
       "    }\n",
       "\n",
       "    .dataframe thead th {\n",
       "        text-align: right;\n",
       "    }\n",
       "</style>\n",
       "<table border=\"1\" class=\"dataframe\">\n",
       "  <thead>\n",
       "    <tr style=\"text-align: right;\">\n",
       "      <th></th>\n",
       "      <th>rejector_FOX-Prime</th>\n",
       "      <th>rejector_FOX-Sports</th>\n",
       "      <th>rejector_FOX-News</th>\n",
       "    </tr>\n",
       "  </thead>\n",
       "  <tbody>\n",
       "    <tr>\n",
       "      <th>count</th>\n",
       "      <td>77</td>\n",
       "      <td>77</td>\n",
       "      <td>77</td>\n",
       "    </tr>\n",
       "    <tr>\n",
       "      <th>unique</th>\n",
       "      <td>2</td>\n",
       "      <td>2</td>\n",
       "      <td>2</td>\n",
       "    </tr>\n",
       "    <tr>\n",
       "      <th>top</th>\n",
       "      <td>False</td>\n",
       "      <td>True</td>\n",
       "      <td>True</td>\n",
       "    </tr>\n",
       "    <tr>\n",
       "      <th>freq</th>\n",
       "      <td>50</td>\n",
       "      <td>39</td>\n",
       "      <td>61</td>\n",
       "    </tr>\n",
       "  </tbody>\n",
       "</table>\n",
       "</div>"
      ],
      "text/plain": [
       "       rejector_FOX-Prime rejector_FOX-Sports rejector_FOX-News\n",
       "count                  77                  77                77\n",
       "unique                  2                   2                 2\n",
       "top                 False                True              True\n",
       "freq                   50                  39                61"
      ]
     },
     "execution_count": 7,
     "metadata": {},
     "output_type": "execute_result"
    }
   ],
   "source": [
    "rejectors[['rejector_FOX-Prime', 'rejector_FOX-Sports', 'rejector_FOX-News']].describe()"
   ]
  },
  {
   "cell_type": "code",
   "execution_count": 8,
   "metadata": {},
   "outputs": [
    {
     "data": {
      "text/html": [
       "<div>\n",
       "<style scoped>\n",
       "    .dataframe tbody tr th:only-of-type {\n",
       "        vertical-align: middle;\n",
       "    }\n",
       "\n",
       "    .dataframe tbody tr th {\n",
       "        vertical-align: top;\n",
       "    }\n",
       "\n",
       "    .dataframe thead th {\n",
       "        text-align: right;\n",
       "    }\n",
       "</style>\n",
       "<table border=\"1\" class=\"dataframe\">\n",
       "  <thead>\n",
       "    <tr style=\"text-align: right;\">\n",
       "      <th></th>\n",
       "      <th>sub_id</th>\n",
       "      <th>Cond</th>\n",
       "      <th>condition</th>\n",
       "      <th>rejector_FOX-Prime</th>\n",
       "      <th>rejector_FOX-Sports</th>\n",
       "      <th>rejector_FOX-News</th>\n",
       "      <th>miss</th>\n",
       "    </tr>\n",
       "  </thead>\n",
       "  <tbody>\n",
       "    <tr>\n",
       "      <th>24</th>\n",
       "      <td>sub-025</td>\n",
       "      <td>NFL</td>\n",
       "      <td>7.0</td>\n",
       "      <td>False</td>\n",
       "      <td>True</td>\n",
       "      <td>False</td>\n",
       "      <td>True</td>\n",
       "    </tr>\n",
       "    <tr>\n",
       "      <th>26</th>\n",
       "      <td>sub-027</td>\n",
       "      <td>LEGO</td>\n",
       "      <td>1.0</td>\n",
       "      <td>True</td>\n",
       "      <td>False</td>\n",
       "      <td>True</td>\n",
       "      <td>True</td>\n",
       "    </tr>\n",
       "    <tr>\n",
       "      <th>31</th>\n",
       "      <td>sub-032</td>\n",
       "      <td>Fox News</td>\n",
       "      <td>6.0</td>\n",
       "      <td>True</td>\n",
       "      <td>True</td>\n",
       "      <td>True</td>\n",
       "      <td>True</td>\n",
       "    </tr>\n",
       "    <tr>\n",
       "      <th>32</th>\n",
       "      <td>sub-033</td>\n",
       "      <td>NFL</td>\n",
       "      <td>7.0</td>\n",
       "      <td>True</td>\n",
       "      <td>True</td>\n",
       "      <td>True</td>\n",
       "      <td>True</td>\n",
       "    </tr>\n",
       "    <tr>\n",
       "      <th>34</th>\n",
       "      <td>sub-035</td>\n",
       "      <td>LEGO</td>\n",
       "      <td>1.0</td>\n",
       "      <td>True</td>\n",
       "      <td>True</td>\n",
       "      <td>True</td>\n",
       "      <td>True</td>\n",
       "    </tr>\n",
       "    <tr>\n",
       "      <th>43</th>\n",
       "      <td>sub-044</td>\n",
       "      <td>LEGO</td>\n",
       "      <td>1.0</td>\n",
       "      <td>True</td>\n",
       "      <td>True</td>\n",
       "      <td>True</td>\n",
       "      <td>True</td>\n",
       "    </tr>\n",
       "    <tr>\n",
       "      <th>69</th>\n",
       "      <td>sub-070</td>\n",
       "      <td>Fox News</td>\n",
       "      <td>6.0</td>\n",
       "      <td>False</td>\n",
       "      <td>False</td>\n",
       "      <td>True</td>\n",
       "      <td>True</td>\n",
       "    </tr>\n",
       "    <tr>\n",
       "      <th>71</th>\n",
       "      <td>sub-071</td>\n",
       "      <td>Fox News</td>\n",
       "      <td>6.0</td>\n",
       "      <td>False</td>\n",
       "      <td>True</td>\n",
       "      <td>True</td>\n",
       "      <td>True</td>\n",
       "    </tr>\n",
       "    <tr>\n",
       "      <th>73</th>\n",
       "      <td>sub-074</td>\n",
       "      <td>Fox News</td>\n",
       "      <td>6.0</td>\n",
       "      <td>False</td>\n",
       "      <td>True</td>\n",
       "      <td>True</td>\n",
       "      <td>True</td>\n",
       "    </tr>\n",
       "  </tbody>\n",
       "</table>\n",
       "</div>"
      ],
      "text/plain": [
       "     sub_id      Cond  condition rejector_FOX-Prime rejector_FOX-Sports  \\\n",
       "24  sub-025       NFL        7.0              False                True   \n",
       "26  sub-027      LEGO        1.0               True               False   \n",
       "31  sub-032  Fox News        6.0               True                True   \n",
       "32  sub-033       NFL        7.0               True                True   \n",
       "34  sub-035      LEGO        1.0               True                True   \n",
       "43  sub-044      LEGO        1.0               True                True   \n",
       "69  sub-070  Fox News        6.0              False               False   \n",
       "71  sub-071  Fox News        6.0              False                True   \n",
       "73  sub-074  Fox News        6.0              False                True   \n",
       "\n",
       "   rejector_FOX-News  miss  \n",
       "24             False  True  \n",
       "26              True  True  \n",
       "31              True  True  \n",
       "32              True  True  \n",
       "34              True  True  \n",
       "43              True  True  \n",
       "69              True  True  \n",
       "71              True  True  \n",
       "73              True  True  "
      ]
     },
     "execution_count": 8,
     "metadata": {},
     "output_type": "execute_result"
    }
   ],
   "source": [
    "prime_miss = (rejectors['rejector_FOX-Prime']==True) & (rejectors['Cond']=='LEGO')\n",
    "sports_miss = (rejectors['rejector_FOX-Sports']==True) & (rejectors['Cond']=='NFL')\n",
    "news_miss = (rejectors['rejector_FOX-News']==True) & (rejectors['Cond']=='Fox News')\n",
    "\n",
    "rejectors['miss'] = np.where(prime_miss|sports_miss|news_miss,True,False)\n",
    "rejectors[(rejectors['miss']==True)]"
   ]
  },
  {
   "cell_type": "markdown",
   "metadata": {},
   "source": [
    "# Willingness To Pay"
   ]
  },
  {
   "cell_type": "markdown",
   "metadata": {},
   "source": [
    "## Data Cleaning\n",
    "Thank you ChatGPT."
   ]
  },
  {
   "cell_type": "code",
   "execution_count": 27,
   "metadata": {},
   "outputs": [],
   "source": [
    "wtp = post.filter(regex='id|Cond|wtp')\n",
    "wtp_t = post.filter(regex='id|Cond|wtp')"
   ]
  },
  {
   "cell_type": "code",
   "execution_count": 28,
   "metadata": {},
   "outputs": [],
   "source": [
    "import re\n",
    "\n",
    "# Function to convert strings with non-numeric characters to float\n",
    "def convert_to_number(value):\n",
    "    if isinstance(value, str):\n",
    "        # Remove non-numeric except period and minus\n",
    "        cleaned_value = re.sub(r'[^\\d.-]', '', value)\n",
    "        # Convert to float if possible, else 0\n",
    "        try:\n",
    "            return float(cleaned_value)\n",
    "        except ValueError:\n",
    "            return 0.0\n",
    "    else:\n",
    "        return float(value)"
   ]
  },
  {
   "cell_type": "code",
   "execution_count": 29,
   "metadata": {},
   "outputs": [
    {
     "name": "stderr",
     "output_type": "stream",
     "text": [
      "/var/folders/4z/r7mkx_mj2d73zrgl4w0848ww0000gq/T/ipykernel_54446/4150799468.py:6: SettingWithCopyWarning: \n",
      "A value is trying to be set on a copy of a slice from a DataFrame.\n",
      "Try using .loc[row_indexer,col_indexer] = value instead\n",
      "\n",
      "See the caveats in the documentation: https://pandas.pydata.org/pandas-docs/stable/user_guide/indexing.html#returning-a-view-versus-a-copy\n",
      "  wtp[col] = wtp[col].apply(convert_to_number)\n"
     ]
    },
    {
     "data": {
      "text/plain": [
       "(   1_wtp_1  2_wtp_1  3_wtp_1  4_wtp_1  5_wtp_1  6_wtp_1  7_wtp_1  8_wtp_1\n",
       " 0     30.0     20.0     10.0   1000.0     10.0      5.0  30000.0     10.0\n",
       " 1      0.0      0.0      0.0    200.0     10.0      0.0      0.0      0.0\n",
       " 2     50.0    100.0     10.0    300.0     15.0      5.0  20000.0     20.0\n",
       " 3      1.0      3.0      3.0      2.0     13.0      8.0  80000.0    800.0\n",
       " 4     10.0      0.0     10.0   1000.0     10.0      3.0  50000.0     20.0,\n",
       " 1_wtp_1    float64\n",
       " 2_wtp_1    float64\n",
       " 3_wtp_1    float64\n",
       " 4_wtp_1    float64\n",
       " 5_wtp_1    float64\n",
       " 6_wtp_1    float64\n",
       " 7_wtp_1    float64\n",
       " 8_wtp_1    float64\n",
       " dtype: object)"
      ]
     },
     "execution_count": 29,
     "metadata": {},
     "output_type": "execute_result"
    }
   ],
   "source": [
    "# Columns to clean\n",
    "wtp_columns = [col for col in wtp.columns if 'wtp' in col]\n",
    "\n",
    "# Apply the conversion\n",
    "for col in wtp_columns:\n",
    "    wtp[col] = wtp[col].apply(convert_to_number)\n",
    "\n",
    "# Show the cleaned data and check types\n",
    "wtp[wtp_columns].head(), wtp[wtp_columns].dtypes"
   ]
  },
  {
   "cell_type": "code",
   "execution_count": 30,
   "metadata": {},
   "outputs": [
    {
     "name": "stderr",
     "output_type": "stream",
     "text": [
      "/var/folders/4z/r7mkx_mj2d73zrgl4w0848ww0000gq/T/ipykernel_54446/905535020.py:12: SettingWithCopyWarning: \n",
      "A value is trying to be set on a copy of a slice from a DataFrame\n",
      "\n",
      "See the caveats in the documentation: https://pandas.pydata.org/pandas-docs/stable/user_guide/indexing.html#returning-a-view-versus-a-copy\n",
      "  wtp.rename(columns=column_name_mapping, inplace=True)\n"
     ]
    }
   ],
   "source": [
    "column_name_mapping = {\n",
    "    '1_wtp_1': 'Tracfone_wtp',\n",
    "    '2_wtp_1': 'Rakuten_wtp',\n",
    "    '3_wtp_1': 'Paramount_wtp',\n",
    "    '4_wtp_1': 'Samsung_wtp',\n",
    "    '5_wtp_1': 'BurgerKing_wtp',\n",
    "    '6_wtp_1': 'RedBull_wtp',\n",
    "    '7_wtp_1': 'Chevrolet_wtp',\n",
    "    '8_wtp_1': 'Lilly_wtp'\n",
    "}\n",
    "\n",
    "wtp.rename(columns=column_name_mapping, inplace=True)"
   ]
  },
  {
   "cell_type": "code",
   "execution_count": 31,
   "metadata": {},
   "outputs": [],
   "source": [
    "wtp_filename = f'fox-wtp_{date.strftime(\"%B\")} {date.strftime(\"%-d\")}, {date.strftime(\"%Y\")}.csv' \n",
    "wtp.to_csv(os.path.join(data_dir, wtp_filename))"
   ]
  },
  {
   "cell_type": "markdown",
   "metadata": {},
   "source": [
    "# Scratch"
   ]
  },
  {
   "cell_type": "code",
   "execution_count": null,
   "metadata": {},
   "outputs": [],
   "source": []
  },
  {
   "cell_type": "code",
   "execution_count": 28,
   "metadata": {},
   "outputs": [
    {
     "data": {
      "text/plain": [
       "Cond\n",
       "American Pickers       3\n",
       "BIG MOOD               3\n",
       "CNN News               3\n",
       "Continental            3\n",
       "Control Smartphone    18\n",
       "Control TV             2\n",
       "Fox News               2\n",
       "LEGO                   3\n",
       "NFL                    2\n",
       "dtype: int64"
      ]
     },
     "execution_count": 28,
     "metadata": {},
     "output_type": "execute_result"
    }
   ],
   "source": [
    "# how many subjects in each condition\n",
    "post['Cond'] = post['condition'].map(conditions_swap)\n",
    "post[['Cond']].groupby('Cond').size()\n",
    "\n",
    "# average age per group\n",
    "post.groupby('Cond')[['age']].mean().round(2)\n",
    "\n",
    "# can we put these together\n",
    "post.groupby(['Cond', 'gender']).agg({\n",
    "    'condition': ['size'],\n",
    "    'age': [min, 'mean', max]\n",
    "}).round(2)"
   ]
  }
 ],
 "metadata": {
  "kernelspec": {
   "display_name": "base",
   "language": "python",
   "name": "python3"
  },
  "language_info": {
   "codemirror_mode": {
    "name": "ipython",
    "version": 3
   },
   "file_extension": ".py",
   "mimetype": "text/x-python",
   "name": "python",
   "nbconvert_exporter": "python",
   "pygments_lexer": "ipython3",
   "version": "3.11.4"
  }
 },
 "nbformat": 4,
 "nbformat_minor": 2
}
