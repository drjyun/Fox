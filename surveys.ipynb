{
 "cells": [
  {
   "cell_type": "markdown",
   "metadata": {},
   "source": [
    "# Fox Survey Data"
   ]
  },
  {
   "cell_type": "markdown",
   "metadata": {},
   "source": [
    "## Importing the Data\n",
    "Tried to import via the API using [QualtricsAPI](https://www.qualtricsapi-pydocs.com/installation.html). I think this may not work cause Jin is the owner of the survey. "
   ]
  },
  {
   "cell_type": "code",
   "execution_count": 1,
   "metadata": {},
   "outputs": [],
   "source": [
    "import pandas as pd\n",
    "import datetime as dt\n",
    "import os"
   ]
  },
  {
   "cell_type": "code",
   "execution_count": 6,
   "metadata": {},
   "outputs": [],
   "source": [
    "\n",
    "data_dir = os.path.abspath(os.path.join(os.getcwd(), '../data'))\n",
    "today = dt.date.today()\n",
    "date = today.replace(day=today.day-1) #yesterday's data, change as needed\n",
    "\n",
    "# as long as you remove the time from the datasheet (##.##.csv), you don't need to manually change anything\n",
    "pre_filename = f'fox-pre_{date.strftime(\"%B\")} {date.strftime(\"%-d\")}, {date.strftime(\"%Y\")}.csv' \n",
    "post_filename = f'fox-post_{date.strftime(\"%B\")} {date.strftime(\"%-d\")}, {date.strftime(\"%Y\")}.csv' \n",
    "\n",
    "pre = pd.read_csv(os.path.join(data_dir, pre_filename), skiprows=[1,2], encoding='utf-8-sig', parse_dates=[1,2], dayfirst=False)\n",
    "post = pd.read_csv(os.path.join(data_dir, post_filename), skiprows=[1,2], encoding='utf-8-sig', parse_dates=[1,2], dayfirst=False)\n"
   ]
  },
  {
   "cell_type": "markdown",
   "metadata": {},
   "source": [
    "## Demographics"
   ]
  },
  {
   "cell_type": "code",
   "execution_count": 50,
   "metadata": {},
   "outputs": [],
   "source": [
    "import numpy as np"
   ]
  },
  {
   "cell_type": "code",
   "execution_count": 58,
   "metadata": {},
   "outputs": [],
   "source": [
    "conditions = {'LEGO':1, 'BIG MOOD':2, 'American Pickers':3, \n",
    "              'CNN News':4, 'Continental':5, 'Fox News':6, \n",
    "              'NFL':7, 'YouTube TV':8, 'Smartphone A':12,\n",
    "              'Smartphone B':10, 'Control TV':11, 'Control Smartphone':13}\n",
    "conditions_swap = {v: k for k, v in conditions.items()}\n",
    "\n",
    "post['Cond'] = post['condition'].map(conditions_swap)\n",
    "pre['Cond'] = pre['condition'].map(conditions_swap)"
   ]
  },
  {
   "cell_type": "code",
   "execution_count": 56,
   "metadata": {},
   "outputs": [
    {
     "data": {
      "text/html": [
       "<div>\n",
       "<style scoped>\n",
       "    .dataframe tbody tr th:only-of-type {\n",
       "        vertical-align: middle;\n",
       "    }\n",
       "\n",
       "    .dataframe tbody tr th {\n",
       "        vertical-align: top;\n",
       "    }\n",
       "\n",
       "    .dataframe thead tr th {\n",
       "        text-align: left;\n",
       "    }\n",
       "\n",
       "    .dataframe thead tr:last-of-type th {\n",
       "        text-align: right;\n",
       "    }\n",
       "</style>\n",
       "<table border=\"1\" class=\"dataframe\">\n",
       "  <thead>\n",
       "    <tr>\n",
       "      <th></th>\n",
       "      <th>condition</th>\n",
       "      <th colspan=\"3\" halign=\"left\">age</th>\n",
       "      <th>F</th>\n",
       "    </tr>\n",
       "    <tr>\n",
       "      <th></th>\n",
       "      <th>size</th>\n",
       "      <th>min</th>\n",
       "      <th>mean</th>\n",
       "      <th>max</th>\n",
       "      <th>sum</th>\n",
       "    </tr>\n",
       "    <tr>\n",
       "      <th>Cond</th>\n",
       "      <th></th>\n",
       "      <th></th>\n",
       "      <th></th>\n",
       "      <th></th>\n",
       "      <th></th>\n",
       "    </tr>\n",
       "  </thead>\n",
       "  <tbody>\n",
       "    <tr>\n",
       "      <th>American Pickers</th>\n",
       "      <td>3</td>\n",
       "      <td>21</td>\n",
       "      <td>21.33</td>\n",
       "      <td>22</td>\n",
       "      <td>3</td>\n",
       "    </tr>\n",
       "    <tr>\n",
       "      <th>BIG MOOD</th>\n",
       "      <td>3</td>\n",
       "      <td>18</td>\n",
       "      <td>21.00</td>\n",
       "      <td>25</td>\n",
       "      <td>2</td>\n",
       "    </tr>\n",
       "    <tr>\n",
       "      <th>CNN News</th>\n",
       "      <td>3</td>\n",
       "      <td>18</td>\n",
       "      <td>20.00</td>\n",
       "      <td>22</td>\n",
       "      <td>3</td>\n",
       "    </tr>\n",
       "    <tr>\n",
       "      <th>Continental</th>\n",
       "      <td>3</td>\n",
       "      <td>19</td>\n",
       "      <td>21.33</td>\n",
       "      <td>24</td>\n",
       "      <td>2</td>\n",
       "    </tr>\n",
       "    <tr>\n",
       "      <th>Control Smartphone</th>\n",
       "      <td>18</td>\n",
       "      <td>18</td>\n",
       "      <td>24.00</td>\n",
       "      <td>70</td>\n",
       "      <td>13</td>\n",
       "    </tr>\n",
       "    <tr>\n",
       "      <th>Control TV</th>\n",
       "      <td>2</td>\n",
       "      <td>20</td>\n",
       "      <td>26.00</td>\n",
       "      <td>32</td>\n",
       "      <td>2</td>\n",
       "    </tr>\n",
       "    <tr>\n",
       "      <th>Fox News</th>\n",
       "      <td>2</td>\n",
       "      <td>21</td>\n",
       "      <td>25.00</td>\n",
       "      <td>29</td>\n",
       "      <td>1</td>\n",
       "    </tr>\n",
       "    <tr>\n",
       "      <th>LEGO</th>\n",
       "      <td>3</td>\n",
       "      <td>19</td>\n",
       "      <td>22.00</td>\n",
       "      <td>27</td>\n",
       "      <td>2</td>\n",
       "    </tr>\n",
       "    <tr>\n",
       "      <th>NFL</th>\n",
       "      <td>2</td>\n",
       "      <td>21</td>\n",
       "      <td>24.50</td>\n",
       "      <td>28</td>\n",
       "      <td>2</td>\n",
       "    </tr>\n",
       "  </tbody>\n",
       "</table>\n",
       "</div>"
      ],
      "text/plain": [
       "                   condition age              F\n",
       "                        size min   mean max sum\n",
       "Cond                                           \n",
       "American Pickers           3  21  21.33  22   3\n",
       "BIG MOOD                   3  18  21.00  25   2\n",
       "CNN News                   3  18  20.00  22   3\n",
       "Continental                3  19  21.33  24   2\n",
       "Control Smartphone        18  18  24.00  70  13\n",
       "Control TV                 2  20  26.00  32   2\n",
       "Fox News                   2  21  25.00  29   1\n",
       "LEGO                       3  19  22.00  27   2\n",
       "NFL                        2  21  24.50  28   2"
      ]
     },
     "execution_count": 56,
     "metadata": {},
     "output_type": "execute_result"
    }
   ],
   "source": [
    "demos = post[['id', 'Cond', 'condition', 'gender', 'age', 'glasses', 'race', 'education', 'income', 'politics']].copy()\n",
    "demos['F'] = np.where(demos['gender']==2, 1,0)\n",
    "\n",
    "demos.groupby('Cond').agg({\n",
    "    'condition': ['size'],\n",
    "    'age': [min, 'mean', max],\n",
    "    'F': [sum]\n",
    "}).round(2)"
   ]
  },
  {
   "cell_type": "markdown",
   "metadata": {},
   "source": [
    "## Rejectors\n",
    "A lot of rejectors in this group for Fox Sports and Fox News. Some still made their way into the condition they're a rejector of."
   ]
  },
  {
   "cell_type": "code",
   "execution_count": 59,
   "metadata": {},
   "outputs": [],
   "source": [
    "rejectors = pre[['sub_id', 'Cond', 'condition', 'rejector_FOX-Prime', 'rejector_FOX-Sports', 'rejector_FOX-News']].copy()"
   ]
  },
  {
   "cell_type": "code",
   "execution_count": 63,
   "metadata": {},
   "outputs": [
    {
     "data": {
      "text/html": [
       "<div>\n",
       "<style scoped>\n",
       "    .dataframe tbody tr th:only-of-type {\n",
       "        vertical-align: middle;\n",
       "    }\n",
       "\n",
       "    .dataframe tbody tr th {\n",
       "        vertical-align: top;\n",
       "    }\n",
       "\n",
       "    .dataframe thead th {\n",
       "        text-align: right;\n",
       "    }\n",
       "</style>\n",
       "<table border=\"1\" class=\"dataframe\">\n",
       "  <thead>\n",
       "    <tr style=\"text-align: right;\">\n",
       "      <th></th>\n",
       "      <th>rejector_FOX-Prime</th>\n",
       "      <th>rejector_FOX-Sports</th>\n",
       "      <th>rejector_FOX-News</th>\n",
       "    </tr>\n",
       "  </thead>\n",
       "  <tbody>\n",
       "    <tr>\n",
       "      <th>count</th>\n",
       "      <td>39</td>\n",
       "      <td>39</td>\n",
       "      <td>39</td>\n",
       "    </tr>\n",
       "    <tr>\n",
       "      <th>unique</th>\n",
       "      <td>2</td>\n",
       "      <td>2</td>\n",
       "      <td>2</td>\n",
       "    </tr>\n",
       "    <tr>\n",
       "      <th>top</th>\n",
       "      <td>False</td>\n",
       "      <td>True</td>\n",
       "      <td>True</td>\n",
       "    </tr>\n",
       "    <tr>\n",
       "      <th>freq</th>\n",
       "      <td>22</td>\n",
       "      <td>21</td>\n",
       "      <td>31</td>\n",
       "    </tr>\n",
       "  </tbody>\n",
       "</table>\n",
       "</div>"
      ],
      "text/plain": [
       "       rejector_FOX-Prime rejector_FOX-Sports rejector_FOX-News\n",
       "count                  39                  39                39\n",
       "unique                  2                   2                 2\n",
       "top                 False                True              True\n",
       "freq                   22                  21                31"
      ]
     },
     "execution_count": 63,
     "metadata": {},
     "output_type": "execute_result"
    }
   ],
   "source": [
    "rejectors[['rejector_FOX-Prime', 'rejector_FOX-Sports', 'rejector_FOX-News']].describe()"
   ]
  },
  {
   "cell_type": "code",
   "execution_count": 73,
   "metadata": {},
   "outputs": [
    {
     "data": {
      "text/html": [
       "<div>\n",
       "<style scoped>\n",
       "    .dataframe tbody tr th:only-of-type {\n",
       "        vertical-align: middle;\n",
       "    }\n",
       "\n",
       "    .dataframe tbody tr th {\n",
       "        vertical-align: top;\n",
       "    }\n",
       "\n",
       "    .dataframe thead th {\n",
       "        text-align: right;\n",
       "    }\n",
       "</style>\n",
       "<table border=\"1\" class=\"dataframe\">\n",
       "  <thead>\n",
       "    <tr style=\"text-align: right;\">\n",
       "      <th></th>\n",
       "      <th>sub_id</th>\n",
       "      <th>Cond</th>\n",
       "      <th>condition</th>\n",
       "      <th>rejector_FOX-Prime</th>\n",
       "      <th>rejector_FOX-Sports</th>\n",
       "      <th>rejector_FOX-News</th>\n",
       "      <th>miss</th>\n",
       "    </tr>\n",
       "  </thead>\n",
       "  <tbody>\n",
       "    <tr>\n",
       "      <th>24</th>\n",
       "      <td>sub-025</td>\n",
       "      <td>NFL</td>\n",
       "      <td>7.0</td>\n",
       "      <td>False</td>\n",
       "      <td>True</td>\n",
       "      <td>False</td>\n",
       "      <td>True</td>\n",
       "    </tr>\n",
       "    <tr>\n",
       "      <th>26</th>\n",
       "      <td>sub-027</td>\n",
       "      <td>LEGO</td>\n",
       "      <td>1.0</td>\n",
       "      <td>True</td>\n",
       "      <td>False</td>\n",
       "      <td>True</td>\n",
       "      <td>True</td>\n",
       "    </tr>\n",
       "    <tr>\n",
       "      <th>31</th>\n",
       "      <td>sub-032</td>\n",
       "      <td>Fox News</td>\n",
       "      <td>6.0</td>\n",
       "      <td>True</td>\n",
       "      <td>True</td>\n",
       "      <td>True</td>\n",
       "      <td>True</td>\n",
       "    </tr>\n",
       "    <tr>\n",
       "      <th>32</th>\n",
       "      <td>sub-033</td>\n",
       "      <td>NFL</td>\n",
       "      <td>7.0</td>\n",
       "      <td>True</td>\n",
       "      <td>True</td>\n",
       "      <td>True</td>\n",
       "      <td>True</td>\n",
       "    </tr>\n",
       "    <tr>\n",
       "      <th>34</th>\n",
       "      <td>sub-035</td>\n",
       "      <td>LEGO</td>\n",
       "      <td>1.0</td>\n",
       "      <td>True</td>\n",
       "      <td>True</td>\n",
       "      <td>True</td>\n",
       "      <td>True</td>\n",
       "    </tr>\n",
       "  </tbody>\n",
       "</table>\n",
       "</div>"
      ],
      "text/plain": [
       "     sub_id      Cond  condition  rejector_FOX-Prime  rejector_FOX-Sports  \\\n",
       "24  sub-025       NFL        7.0               False                 True   \n",
       "26  sub-027      LEGO        1.0                True                False   \n",
       "31  sub-032  Fox News        6.0                True                 True   \n",
       "32  sub-033       NFL        7.0                True                 True   \n",
       "34  sub-035      LEGO        1.0                True                 True   \n",
       "\n",
       "    rejector_FOX-News  miss  \n",
       "24              False  True  \n",
       "26               True  True  \n",
       "31               True  True  \n",
       "32               True  True  \n",
       "34               True  True  "
      ]
     },
     "execution_count": 73,
     "metadata": {},
     "output_type": "execute_result"
    }
   ],
   "source": [
    "prime_miss = (rejectors['rejector_FOX-Prime']==True) & (rejectors['Cond']=='LEGO')\n",
    "sports_miss = (rejectors['rejector_FOX-Sports']==True) & (rejectors['Cond']=='NFL')\n",
    "news_miss = (rejectors['rejector_FOX-News']==True) & (rejectors['Cond']=='Fox News')\n",
    "\n",
    "rejectors['miss'] = np.where(prime_miss|sports_miss|news_miss,True,False)\n",
    "rejectors[(rejectors['miss']==True)]"
   ]
  },
  {
   "cell_type": "markdown",
   "metadata": {},
   "source": [
    "# Scratch"
   ]
  },
  {
   "cell_type": "code",
   "execution_count": 28,
   "metadata": {},
   "outputs": [
    {
     "data": {
      "text/plain": [
       "Cond\n",
       "American Pickers       3\n",
       "BIG MOOD               3\n",
       "CNN News               3\n",
       "Continental            3\n",
       "Control Smartphone    18\n",
       "Control TV             2\n",
       "Fox News               2\n",
       "LEGO                   3\n",
       "NFL                    2\n",
       "dtype: int64"
      ]
     },
     "execution_count": 28,
     "metadata": {},
     "output_type": "execute_result"
    }
   ],
   "source": [
    "# how many subjects in each condition\n",
    "post['Cond'] = post['condition'].map(conditions_swap)\n",
    "post[['Cond']].groupby('Cond').size()\n",
    "\n",
    "# average age per group\n",
    "post.groupby('Cond')[['age']].mean().round(2)\n",
    "\n",
    "# can we put these together\n",
    "post.groupby(['Cond', 'gender']).agg({\n",
    "    'condition': ['size'],\n",
    "    'age': [min, 'mean', max]\n",
    "}).round(2)"
   ]
  }
 ],
 "metadata": {
  "kernelspec": {
   "display_name": "base",
   "language": "python",
   "name": "python3"
  },
  "language_info": {
   "codemirror_mode": {
    "name": "ipython",
    "version": 3
   },
   "file_extension": ".py",
   "mimetype": "text/x-python",
   "name": "python",
   "nbconvert_exporter": "python",
   "pygments_lexer": "ipython3",
   "version": "3.11.4"
  }
 },
 "nbformat": 4,
 "nbformat_minor": 2
}
